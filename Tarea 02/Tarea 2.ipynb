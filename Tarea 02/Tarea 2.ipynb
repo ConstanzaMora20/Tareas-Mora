{
  "nbformat": 4,
  "nbformat_minor": 0,
  "metadata": {
    "colab": {
      "provenance": []
    },
    "kernelspec": {
      "name": "python3",
      "display_name": "Python 3"
    },
    "language_info": {
      "name": "python"
    }
  },
  "cells": [
    {
      "cell_type": "code",
      "execution_count": null,
      "metadata": {
        "id": "PbMUk7NegBlt"
      },
      "outputs": [],
      "source": []
    },
    {
      "cell_type": "markdown",
      "source": [
        "**Problema 1**: Hacer un programa que imprima los números del 1 al 100."
      ],
      "metadata": {
        "id": "L0WHH1UNgIFi"
      }
    },
    {
      "cell_type": "code",
      "source": [
        "# Definimos el rango de los valores\n",
        "for i in range(1,101):\n",
        "  # Imprimimos\n",
        "  print(i)"
      ],
      "metadata": {
        "colab": {
          "base_uri": "https://localhost:8080/"
        },
        "id": "yvC4Xg7agQfI",
        "outputId": "4381ed8f-4a1a-4373-bff1-ffee2bfd9b17"
      },
      "execution_count": 8,
      "outputs": [
        {
          "output_type": "stream",
          "name": "stdout",
          "text": [
            "1\n",
            "2\n",
            "3\n",
            "4\n",
            "5\n",
            "6\n",
            "7\n",
            "8\n",
            "9\n",
            "10\n",
            "11\n",
            "12\n",
            "13\n",
            "14\n",
            "15\n",
            "16\n",
            "17\n",
            "18\n",
            "19\n",
            "20\n",
            "21\n",
            "22\n",
            "23\n",
            "24\n",
            "25\n",
            "26\n",
            "27\n",
            "28\n",
            "29\n",
            "30\n",
            "31\n",
            "32\n",
            "33\n",
            "34\n",
            "35\n",
            "36\n",
            "37\n",
            "38\n",
            "39\n",
            "40\n",
            "41\n",
            "42\n",
            "43\n",
            "44\n",
            "45\n",
            "46\n",
            "47\n",
            "48\n",
            "49\n",
            "50\n",
            "51\n",
            "52\n",
            "53\n",
            "54\n",
            "55\n",
            "56\n",
            "57\n",
            "58\n",
            "59\n",
            "60\n",
            "61\n",
            "62\n",
            "63\n",
            "64\n",
            "65\n",
            "66\n",
            "67\n",
            "68\n",
            "69\n",
            "70\n",
            "71\n",
            "72\n",
            "73\n",
            "74\n",
            "75\n",
            "76\n",
            "77\n",
            "78\n",
            "79\n",
            "80\n",
            "81\n",
            "82\n",
            "83\n",
            "84\n",
            "85\n",
            "86\n",
            "87\n",
            "88\n",
            "89\n",
            "90\n",
            "91\n",
            "92\n",
            "93\n",
            "94\n",
            "95\n",
            "96\n",
            "97\n",
            "98\n",
            "99\n",
            "100\n"
          ]
        }
      ]
    },
    {
      "cell_type": "markdown",
      "source": [
        "**Problema 2**: Hacer un programa que imprima los números del 1 al 100 que sean divisibles entre 3 (con resto 0)"
      ],
      "metadata": {
        "id": "azeRlq1cgv5g"
      }
    },
    {
      "cell_type": "code",
      "source": [
        "# Recorremos los números del 1 al 100\n",
        "for i in range(1,101):\n",
        "  # Usamos el operador % para verificar si el número es divisible entre 3\n",
        "  if i % 3 == 0:\n",
        "    # Imprimimos el número si es divisible entre 3\n",
        "    print(i)"
      ],
      "metadata": {
        "colab": {
          "base_uri": "https://localhost:8080/"
        },
        "id": "fNUrZYEDhiM7",
        "outputId": "575c283b-0e0d-49b5-8cb9-dc1eed7d7314"
      },
      "execution_count": 4,
      "outputs": [
        {
          "output_type": "stream",
          "name": "stdout",
          "text": [
            "3\n",
            "6\n",
            "9\n",
            "12\n",
            "15\n",
            "18\n",
            "21\n",
            "24\n",
            "27\n",
            "30\n",
            "33\n",
            "36\n",
            "39\n",
            "42\n",
            "45\n",
            "48\n",
            "51\n",
            "54\n",
            "57\n",
            "60\n",
            "63\n",
            "66\n",
            "69\n",
            "72\n",
            "75\n",
            "78\n",
            "81\n",
            "84\n",
            "87\n",
            "90\n",
            "93\n",
            "96\n",
            "99\n"
          ]
        }
      ]
    },
    {
      "cell_type": "markdown",
      "source": [
        "**Problema 3:** Pseudocódigo, Sumador y comparador de dos números."
      ],
      "metadata": {
        "id": "fcVFOYTDiLlB"
      }
    },
    {
      "cell_type": "code",
      "source": [
        "#Definimos las variables\n",
        "num1 = int(input(\"Ingrese numero 1: \"))\n",
        "num2 = int(input(\"Ingrese numero 2: \"))\n",
        "# Realizamos la suma de los dos números\n",
        "suma = num1 + num2\n",
        "resultado= \"\"\n",
        "# Evaluamos el valor de la suma y asignamos el mensaje correspondiente\n",
        "if(suma < 100):\n",
        "  resultado= \"menor a 100\"\n",
        "elif(suma > 100 and suma < 150):\n",
        "  resultado= \"mayor a 100 y menor a 150\"\n",
        "elif(suma > 150):\n",
        "  resultado= \"mayor a 150\"\n",
        "\n",
        "  # Imprimimos el resultado\n",
        "print(resultado)"
      ],
      "metadata": {
        "colab": {
          "base_uri": "https://localhost:8080/"
        },
        "id": "EhLNuLej8MDP",
        "outputId": "8cb12b6d-feaf-41c1-f9df-f2cf8f824b23"
      },
      "execution_count": 6,
      "outputs": [
        {
          "output_type": "stream",
          "name": "stdout",
          "text": [
            "Ingrese numero 1: 80\n",
            "Ingrese numero 2: 50\n",
            "mayor a 100 y menor a 150\n"
          ]
        }
      ]
    },
    {
      "cell_type": "markdown",
      "source": [
        "**Problema 4:** Pseudocódigo"
      ],
      "metadata": {
        "id": "3unojl9GRf_q"
      }
    },
    {
      "cell_type": "code",
      "source": [
        "# Declaramos las variables\n",
        "edad= 17\n",
        "gusta_programar= True\n",
        "# Evaluamos si el usuario es mayor de edad y si le gusta programar\n",
        "if(edad >= 18 and gusta_programar == True): # Si el usuario tiene 18 años o más y le gusta programar\n",
        "  promedio= \"Eres mayor de edad y te gusta programar\"\n",
        "elif(edad < 18 and gusta_programar == False): # Si el usuario es menor de edad y no le gusta programar\n",
        "  promedio= \"Eres menor de edad y no te gusta programar\"\n",
        "elif(edad >= 18 and gusta_programar == False):  # Si el usuario es mayor de edad pero no le gusta programar\n",
        "  promedio= \"Eres mayor de edad y no te gusta programar\"\n",
        "elif(edad < 18 and gusta_programar == True): # Si el usuario es menor de edad y le gusta programar\n",
        "  promedio= \"Eres menor de edad y te gusta programar\"\n",
        "  #Imprimimos el resultado\n",
        "print(promedio)"
      ],
      "metadata": {
        "colab": {
          "base_uri": "https://localhost:8080/"
        },
        "id": "-xPthnriRoJS",
        "outputId": "b4b06ff0-fcab-489a-96b0-c3dae684f37d"
      },
      "execution_count": 9,
      "outputs": [
        {
          "output_type": "stream",
          "name": "stdout",
          "text": [
            "Eres menor de edad y te gusta programar\n"
          ]
        }
      ]
    }
  ]
}